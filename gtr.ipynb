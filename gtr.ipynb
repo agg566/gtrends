{
 "cells": [
  {
   "cell_type": "code",
   "execution_count": 56,
   "id": "4d052ac7-6b83-4499-9a21-7822c8bd2438",
   "metadata": {
    "extensions": {
     "jupyter_dashboards": {
      "activeView": "grid_default",
      "version": 1,
      "views": {
       "grid_default": {
        "col": null,
        "height": 2,
        "hidden": true,
        "locked": true,
        "row": null,
        "width": 2
       }
      }
     }
    },
    "tags": []
   },
   "outputs": [],
   "source": [
    "import os\n",
    "import time\n",
    "import requests\n",
    "import pandas as pd\n",
    "import ipywidgets as widgets\n",
    "from IPython.display import display, clear_output\n",
    "from IPython.core.display import HTML\n",
    "from pytrends.request import TrendReq\n",
    "from tqdm.notebook import tqdm\n",
    "from voila.utils import wait_for_request\n",
    "from ipywidgets import Button, widgets, Accordion"
   ]
  },
  {
   "cell_type": "code",
   "execution_count": 48,
   "id": "7ea115ca-77d4-4eb6-bc0e-c376d724384b",
   "metadata": {
    "extensions": {
     "jupyter_dashboards": {
      "activeView": "grid_default",
      "views": {
       "grid_default": {
        "col": null,
        "height": 2,
        "hidden": true,
        "locked": true,
        "row": null,
        "width": 2
       }
      }
     }
    }
   },
   "outputs": [],
   "source": [
    "EXACT_KEYWORDS = []\n",
    "TITLES_LIST = []\n",
    "KEYWORDS_EXTENDED = []\n",
    "TITLES_LIST_EXTENDED = []\n",
    "pytrend = TrendReq()"
   ]
  },
  {
   "cell_type": "code",
   "execution_count": 49,
   "id": "baee3781-c5d9-4987-a9b9-f4bf5e9cbcf1",
   "metadata": {
    "extensions": {
     "jupyter_dashboards": {
      "activeView": "grid_default",
      "version": 1,
      "views": {
       "grid_default": {
        "col": 1,
        "height": 2,
        "hidden": false,
        "locked": true,
        "row": 1,
        "width": 2
       }
      }
     }
    },
    "tags": []
   },
   "outputs": [
    {
     "data": {
      "application/vnd.jupyter.widget-view+json": {
       "model_id": "a2aff745b67b4e5e8f20015dd3133c35",
       "version_major": 2,
       "version_minor": 0
      },
      "text/plain": [
       "FileUpload(value={}, accept='.xlsx', description='Upload')"
      ]
     },
     "metadata": {},
     "output_type": "display_data"
    }
   ],
   "source": [
    "uploader = widgets.FileUpload(\n",
    "    accept='.xlsx',  # Accepted file extension e.g. '.txt', '.pdf', 'image/*', 'image/*,.pdf'\n",
    "    multiple=False  # True to accept multiple files upload else False\n",
    ")\n",
    "display(uploader)"
   ]
  },
  {
   "cell_type": "code",
   "execution_count": 50,
   "id": "3892b63d-e5fe-44b2-8bdc-4675fcc05357",
   "metadata": {
    "extensions": {
     "jupyter_dashboards": {
      "activeView": "grid_default",
      "views": {
       "grid_default": {
        "col": null,
        "height": 2,
        "hidden": true,
        "locked": true,
        "row": null,
        "width": 2
       }
      }
     }
    }
   },
   "outputs": [],
   "source": [
    "checkboxer = widgets.Checkbox(\n",
    "    value=False,\n",
    "    description='Uwzględnij w analizie gry bez kategorii*',\n",
    "    disabled=False,\n",
    "    indent=False\n",
    ")"
   ]
  },
  {
   "cell_type": "code",
   "execution_count": 51,
   "id": "3ecc41ed-4ae1-4c09-baea-e65abcbf0379",
   "metadata": {
    "extensions": {
     "jupyter_dashboards": {
      "activeView": "grid_default",
      "views": {
       "grid_default": {
        "col": 1,
        "height": 2,
        "hidden": false,
        "locked": true,
        "row": 9,
        "width": 4
       }
      }
     }
    },
    "tags": []
   },
   "outputs": [
    {
     "data": {
      "application/vnd.jupyter.widget-view+json": {
       "model_id": "c17add2d4f094585b643bd18aa65cb2b",
       "version_major": 2,
       "version_minor": 0
      },
      "text/plain": [
       "Checkbox(value=False, description='Uwzględnij w analizie gry bez kategorii*', indent=False)"
      ]
     },
     "metadata": {},
     "output_type": "display_data"
    }
   ],
   "source": [
    "display(checkboxer)"
   ]
  },
  {
   "cell_type": "code",
   "execution_count": 54,
   "id": "e7c025ed-297a-47a7-af64-3b5159bb3b86",
   "metadata": {
    "extensions": {
     "jupyter_dashboards": {
      "activeView": "grid_default",
      "version": 1,
      "views": {
       "grid_default": {
        "col": null,
        "height": 2,
        "hidden": true,
        "locked": true,
        "row": null,
        "width": 2
       }
      }
     }
    }
   },
   "outputs": [],
   "source": [
    "def validate(uploaded_file):\n",
    "\n",
    "    global EXACT_KEYWORDS\n",
    "    global TITLES_LIST\n",
    "    global KEYWORDS_EXTENDED\n",
    "    global TITLES_LIST_EXTENDED\n",
    "    global final_df_all_codes\n",
    "    try:\n",
    "        input_file = list(uploaded_file.value.values())[0]\n",
    "        content = input_file['content']\n",
    "        df_upload = pd.read_excel(content, header=None)\n",
    "        df_upload = df_upload.replace(r'\\n','', regex=True).replace(';','', regex=True).dropna()\n",
    "        keywords = df_upload.iloc[:, 0].to_list()\n",
    "        keywords = [k for k in keywords if k]\n",
    "\n",
    "        keywords_codes = []\n",
    "        all_codes = []\n",
    "        for keyword in tqdm(keywords, leave=False):\n",
    "            data = (pytrend.suggestions(keyword))\n",
    "            for d in data:\n",
    "                all_codes.append(d)\n",
    "            dicti = next(\n",
    "                (item for item in data if \"game\" in item[\"type\"]),\n",
    "                {\n",
    "                    'mid': keyword,\n",
    "                    'title': keyword,\n",
    "                    'type': \"0\"\n",
    "                }\n",
    "            )\n",
    "            if dicti is not None:\n",
    "                keywords_codes.append(dicti)\n",
    "            else:\n",
    "                continue\n",
    "                    \n",
    "        df_codes = pd.DataFrame(keywords_codes)      #dataframe with single, most popular suggestion \n",
    "        df_all_codes = pd.DataFrame.from_records(all_codes) #dataframe with all keyword suggestions\n",
    "        \n",
    "        #delete suggestions not game related\n",
    "        final_df_all_codes = df_all_codes.loc[df_all_codes[\"type\"].str.contains(\"game\")]\n",
    "        final_df = df_codes.loc[df_codes[\"type\"].str.contains(\"game\")] \n",
    "        \n",
    "        global WRONG_ID_DF\n",
    "        WRONG_ID_DF = df_codes.loc[~df_codes[\"type\"].str.contains(\"game\")].drop(columns='mid') \n",
    "        #save suggestions not game related to another dataframe for further use\n",
    "        \n",
    "        #keep only the non overlapping keywords suggestions \n",
    "        joined_df = pd.concat([final_df_all_codes, final_df])\n",
    "        joined_df = joined_df.drop_duplicates(keep=False)\n",
    "        \n",
    "        #delete keywords exact ID from display \n",
    "        df_more_keywords = joined_df.loc[ : , joined_df.columns != 'mid']\n",
    "        df_display = final_df.loc[ : , final_df.columns != 'mid']\n",
    "        \n",
    "        df_default_keywords = pd.concat([df_display, WRONG_ID_DF])\n",
    "        \n",
    "        display(HTML(df_default_keywords.to_html(index=False)))\n",
    "\n",
    "        \n",
    "        WRONG_ID_DF['type'].apply(pd.to_numeric)\n",
    "        WRONG_ID_DF['type'] = \"0.00\"\n",
    "        WRONG_ID_DF.rename(\n",
    "            columns={\n",
    "                'type': 'średnia',\n",
    "                'title': 'tytuł'\n",
    "                },\n",
    "            inplace=True\n",
    "        )\n",
    "        \n",
    "        wrong_ID = WRONG_ID_DF['tytuł'].to_list()\n",
    "        wrong_id_list = []\n",
    "        for i in wrong_ID:\n",
    "            wrong_id_list.append('\"' + i + '\"')\n",
    "        \n",
    "        WRONG_ID_DF = WRONG_ID_DF.set_index('tytuł')\n",
    "        \n",
    "        EXACT_KEYWORDS = final_df['mid'].to_list()\n",
    "        TITLES_LIST = final_df['title'].to_list()\n",
    "        \n",
    "        KEYWORDS_EXTENDED = EXACT_KEYWORDS + wrong_id_list\n",
    "        TITLES_LIST_EXTENDED = TITLES_LIST + wrong_id_list\n",
    "        \n",
    "        with output3:\n",
    "            output3.clear_output()\n",
    "            display(HTML(df_more_keywords.to_html(index=False)))\n",
    "        \n",
    "        display(acc)\n",
    "        \n",
    "\n",
    "    except IndexError:\n",
    "        print(\"Błąd: nie przesłano pliku bądź przesłano pusty plik\")\n",
    "    except requests.exceptions.Timeout:\n",
    "        print(\"Błąd: Google nie odpowiada. Spróbuj ponownie później\")\n",
    "    except:\n",
    "        print(\"Coś poszło nie tak\")\n",
    "\n",
    "\n",
    "    \n",
    "    "
   ]
  },
  {
   "cell_type": "code",
   "execution_count": 27,
   "id": "7396b72b-f588-4629-ae2a-5d426baaaf67",
   "metadata": {
    "extensions": {
     "jupyter_dashboards": {
      "activeView": "grid_default",
      "views": {
       "grid_default": {
        "col": null,
        "height": 2,
        "hidden": true,
        "locked": true,
        "row": null,
        "width": 2
       }
      }
     }
    }
   },
   "outputs": [],
   "source": [
    "output3 = widgets.Output()\n"
   ]
  },
  {
   "cell_type": "code",
   "execution_count": 28,
   "id": "e8068d4b-a12e-4a54-a279-256036f3f586",
   "metadata": {
    "extensions": {
     "jupyter_dashboards": {
      "activeView": "grid_default",
      "views": {
       "grid_default": {
        "col": null,
        "height": 2,
        "hidden": true,
        "locked": true,
        "row": null,
        "width": 2
       }
      }
     }
    }
   },
   "outputs": [],
   "source": [
    "acc = Accordion(children=[output3], selected_index=None)\n",
    "acc.set_title(0, 'pokaż więcej sugestii')"
   ]
  },
  {
   "cell_type": "code",
   "execution_count": 29,
   "id": "90d32a02-158f-4541-82c9-7d92c0aed865",
   "metadata": {
    "extensions": {
     "jupyter_dashboards": {
      "activeView": "grid_default",
      "version": 1,
      "views": {
       "grid_default": {
        "col": 3,
        "height": 2,
        "hidden": false,
        "locked": true,
        "row": 1,
        "width": 2
       }
      }
     }
    },
    "tags": []
   },
   "outputs": [
    {
     "data": {
      "application/vnd.jupyter.widget-view+json": {
       "model_id": "d86492fa1c514c3e9e281efa55f54ae6",
       "version_major": 2,
       "version_minor": 0
      },
      "text/plain": [
       "Button(description='wczytaj tytuły', style=ButtonStyle())"
      ]
     },
     "metadata": {},
     "output_type": "display_data"
    }
   ],
   "source": [
    "button2 = widgets.Button(description=\"wczytaj tytuły\")\n",
    "output2 = widgets.Output()\n",
    "\n",
    "display(button2)\n",
    "\n",
    "\n",
    "@output2.capture(clear_output=True)\n",
    "def on_button_clicked_validate(b):\n",
    "        validate(uploader)\n",
    "\n",
    "button2.on_click(on_button_clicked_validate)"
   ]
  },
  {
   "cell_type": "code",
   "execution_count": 30,
   "id": "2c946f51-d8e9-4c1d-b8ab-35d23dcfe3dc",
   "metadata": {
    "extensions": {
     "jupyter_dashboards": {
      "activeView": "grid_default",
      "views": {
       "grid_default": {
        "col": 5,
        "height": 15,
        "hidden": false,
        "locked": true,
        "row": 1,
        "width": 7
       }
      }
     }
    },
    "tags": []
   },
   "outputs": [
    {
     "data": {
      "application/vnd.jupyter.widget-view+json": {
       "model_id": "0a5200400fa14caf9b0d521e0d13db68",
       "version_major": 2,
       "version_minor": 0
      },
      "text/plain": [
       "Output()"
      ]
     },
     "metadata": {},
     "output_type": "display_data"
    }
   ],
   "source": [
    "display(output2)"
   ]
  },
  {
   "cell_type": "code",
   "execution_count": 32,
   "id": "e6ddafed-4e60-4eb2-9bfc-0deb2e1bcd02",
   "metadata": {
    "extensions": {
     "jupyter_dashboards": {
      "activeView": "grid_default",
      "version": 1,
      "views": {
       "grid_default": {
        "col": null,
        "height": 2,
        "hidden": true,
        "locked": true,
        "row": null,
        "width": 2
       }
      }
     }
    },
    "tags": []
   },
   "outputs": [],
   "source": [
    "time_frame = widgets.Dropdown(\n",
    "    options=[\n",
    "        (\"ostatni miesiąc\", \"today 1-m\"),\n",
    "        (\"ostatnie 3 miesiące\", \"today 3-m\"),\n",
    "        (\"ostatni rok\", \"today 12-m\"),\n",
    "        (\"ostatnie 5 lat\", \"today 5-y\"),\n",
    "        (\"od 2004-\", \"all\"),\n",
    "        (\"własna data\", \"custom_date\")\n",
    "    ],\n",
    "    value='today 12-m',\n",
    "    description='Zakres czasu:',\n",
    "    disabled=False,\n",
    ")"
   ]
  },
  {
   "cell_type": "code",
   "execution_count": 33,
   "id": "c7fe8199-c128-4642-b8db-5ca597508f16",
   "metadata": {
    "extensions": {
     "jupyter_dashboards": {
      "activeView": "grid_default",
      "views": {
       "grid_default": {
        "col": null,
        "height": 2,
        "hidden": true,
        "locked": true,
        "row": null,
        "width": 2
       }
      }
     }
    }
   },
   "outputs": [],
   "source": [
    "custom_timeframe_start = widgets.DatePicker(\n",
    "    description='Początek',\n",
    "    disabled=False\n",
    ")\n",
    "custom_timeframe_stop = widgets.DatePicker(\n",
    "    description='Koniec',\n",
    "    disabled=False\n",
    ")"
   ]
  },
  {
   "cell_type": "code",
   "execution_count": 34,
   "id": "5f663174-5c84-4b89-88fb-fa71cb6de09d",
   "metadata": {
    "extensions": {
     "jupyter_dashboards": {
      "activeView": "grid_default",
      "version": 1,
      "views": {
       "grid_default": {
        "col": null,
        "height": 2,
        "hidden": true,
        "locked": true,
        "row": null,
        "width": 2
       }
      }
     }
    },
    "tags": []
   },
   "outputs": [],
   "source": [
    "location = widgets.Dropdown(\n",
    "    options=[\n",
    "        ('cały świat', ''),\n",
    "        ('Stany Zjednoczone', 'US'),\n",
    "        ('Polska', 'PL'),\n",
    "        ('Wielka Brytania', 'GB'),\n",
    "        ('Niemcy', 'DE'),\n",
    "        ('Japonia', 'JP'),\n",
    "        ('Rosja', 'RU'),\n",
    "        ('Korea Południowa', 'KR')\n",
    "    ], \n",
    "    value='',\n",
    "    description='Region:',\n",
    "    disabled=False,\n",
    ")"
   ]
  },
  {
   "cell_type": "code",
   "execution_count": 35,
   "id": "6bdb9d4a-b5ea-4d55-84a5-022039227a3e",
   "metadata": {
    "extensions": {
     "jupyter_dashboards": {
      "activeView": "grid_default",
      "version": 1,
      "views": {
       "grid_default": {
        "col": 1,
        "height": 3,
        "hidden": false,
        "locked": true,
        "row": 6,
        "width": 4
       }
      }
     }
    },
    "tags": []
   },
   "outputs": [
    {
     "data": {
      "application/vnd.jupyter.widget-view+json": {
       "model_id": "7954cf8074a44aaea98efaee2a208bbe",
       "version_major": 2,
       "version_minor": 0
      },
      "text/plain": [
       "DatePicker(value=None, description='Początek')"
      ]
     },
     "metadata": {},
     "output_type": "display_data"
    },
    {
     "data": {
      "application/vnd.jupyter.widget-view+json": {
       "model_id": "d554e8f8c59b4129a1500668bfc7278c",
       "version_major": 2,
       "version_minor": 0
      },
      "text/plain": [
       "DatePicker(value=None, description='Koniec')"
      ]
     },
     "metadata": {},
     "output_type": "display_data"
    }
   ],
   "source": [
    "display(custom_timeframe_start, custom_timeframe_stop)"
   ]
  },
  {
   "cell_type": "code",
   "execution_count": 36,
   "id": "e4e6be18-a080-4fcf-a06e-c268939027db",
   "metadata": {
    "extensions": {
     "jupyter_dashboards": {
      "activeView": "grid_default",
      "version": 1,
      "views": {
       "grid_default": {
        "col": 1,
        "height": 3,
        "hidden": false,
        "locked": true,
        "row": 3,
        "width": 4
       }
      }
     }
    },
    "tags": []
   },
   "outputs": [
    {
     "data": {
      "application/vnd.jupyter.widget-view+json": {
       "model_id": "dd3bd8f1f6e64123871acad6cd841278",
       "version_major": 2,
       "version_minor": 0
      },
      "text/plain": [
       "Dropdown(description='Zakres czasu:', index=2, options=(('ostatni miesiąc', 'today 1-m'), ('ostatnie 3 miesiąc…"
      ]
     },
     "metadata": {},
     "output_type": "display_data"
    },
    {
     "data": {
      "application/vnd.jupyter.widget-view+json": {
       "model_id": "7b38c62efa69487693f9483831fa936e",
       "version_major": 2,
       "version_minor": 0
      },
      "text/plain": [
       "Dropdown(description='Region:', options=(('cały świat', ''), ('Stany Zjednoczone', 'US'), ('Polska', 'PL'), ('…"
      ]
     },
     "metadata": {},
     "output_type": "display_data"
    }
   ],
   "source": [
    "\n",
    "display(time_frame)\n",
    "\n",
    "display(location)"
   ]
  },
  {
   "cell_type": "code",
   "execution_count": 37,
   "id": "13aef880-47db-4e04-9382-eebe67ceed37",
   "metadata": {
    "extensions": {
     "jupyter_dashboards": {
      "activeView": "grid_default",
      "version": 1,
      "views": {
       "grid_default": {
        "col": null,
        "height": 2,
        "hidden": true,
        "locked": true,
        "row": null,
        "width": 2
       }
      }
     }
    }
   },
   "outputs": [],
   "source": [
    "def compare(kw_list):\n",
    "\n",
    "    trends = dict()\n",
    "    try:\n",
    "        for i in tqdm(kw_list, leave=False):\n",
    "            time.sleep(1)\n",
    "            if time_frame.value == \"custom_date\":\n",
    "                zakres = str(custom_timeframe_start.value) + \" \" + str(custom_timeframe_stop.value)\n",
    "                pytrend.build_payload(\n",
    "                    [i, '/m/0c7kdf'],\n",
    "                    cat=0,\n",
    "                    timeframe=zakres,\n",
    "                    geo=location.value\n",
    "                )\n",
    "            else:\n",
    "                zakres = time_frame.value\n",
    "                pytrend.build_payload(\n",
    "                    [i, '/m/0c7kdf'],\n",
    "                    cat=0,\n",
    "                    timeframe=zakres,\n",
    "                    geo=location.value\n",
    "                )\n",
    "            trends[i] = pytrend.interest_over_time()[i]\n",
    "\n",
    "        trends_df = pd.DataFrame.from_dict(trends)\n",
    "        trends_df.columns = TITLES_LIST\n",
    "\n",
    "        av_column = trends_df.mean(axis=0, numeric_only=True).round(2).sort_values(ascending=False)\n",
    "        av_column = av_column.to_frame(name=\"średnia\")\n",
    "        \n",
    "        final_av_column = pd.concat([av_column, WRONG_ID_DF])\n",
    "\n",
    "        final_av_column[\"średnia\"] = final_av_column[\"średnia\"].map(str)\n",
    "        final_av_column[\"średnia\"] = final_av_column[\"średnia\"].str.replace(\".\", \",\", regex=True)\n",
    "        \n",
    "        csv_filename = (\"results_\" + time.strftime('%Y-%m-%d %H:%M') + time_frame.label + \".csv\")\n",
    "        final_av_column.to_csv(csv_filename)\n",
    "        \n",
    "        display(HTML(f\"<a download='{csv_filename}' href='../files/{csv_filename}'>\"\n",
    "                 \"Kliknij tutaj aby pobrać raport</a>\"))\n",
    "        \n",
    "        display(final_av_column)\n",
    "        \n",
    "        if time_frame.value == \"custom_date\":\n",
    "            print((\"zakres: \" + zakres + ';'), (\"region: \" + location.label))\n",
    "        else:\n",
    "            print((\"zakres: \" + time_frame.label + ';'), (\"region: \" + location.label))\n",
    "        \n",
    "        print(\"tytułom bez kategorii automatycznie przypisano wartość 0\")\n",
    "\n",
    "    except requests.exceptions.Timeout:\n",
    "        print(\"Błąd: Google nie odpowiada. Spróbuj ponownie później\")\n",
    "    except NameError:\n",
    "        print(\"Błąd: nie przesłano pliku\")\n",
    "    except:\n",
    "        print(\"Coś poszło nie tak\")"
   ]
  },
  {
   "cell_type": "code",
   "execution_count": 38,
   "id": "9ce3396d-0c2d-4bbd-82f3-8f6ff63753c5",
   "metadata": {
    "extensions": {
     "jupyter_dashboards": {
      "activeView": "grid_default",
      "views": {
       "grid_default": {
        "col": null,
        "height": 2,
        "hidden": true,
        "locked": true,
        "row": null,
        "width": 2
       }
      }
     }
    }
   },
   "outputs": [],
   "source": [
    "def compare_all(kw_list):\n",
    "\n",
    "    trends = dict()\n",
    "    try:\n",
    "        for i in tqdm(kw_list, leave=False):\n",
    "            time.sleep(1)\n",
    "            if time_frame.value == \"custom_date\":\n",
    "                zakres = str(custom_timeframe_start.value) + \" \" + str(custom_timeframe_stop.value)\n",
    "                pytrend.build_payload(\n",
    "                    [i, '/m/0c7kdf'],\n",
    "                    cat=0,\n",
    "                    timeframe=zakres,\n",
    "                    geo=location.value\n",
    "                )\n",
    "            else:\n",
    "                zakres = time_frame.value\n",
    "                pytrend.build_payload(\n",
    "                    [i, '/m/0c7kdf'],\n",
    "                    cat=0,\n",
    "                    timeframe=zakres,\n",
    "                    geo=location.value\n",
    "                )\n",
    "            trends[i] = pytrend.interest_over_time()[i]\n",
    "\n",
    "        trends_df = pd.DataFrame.from_dict(trends)\n",
    "        trends_df.columns = TITLES_LIST_EXTENDED\n",
    "\n",
    "        final_av_column = trends_df.mean(axis=0, numeric_only=True).round(2).sort_values(ascending=False)\n",
    "        final_av_column = final_av_column.to_frame(name=\"średnia\")\n",
    "\n",
    "        final_av_column[\"średnia\"] = final_av_column[\"średnia\"].map(str)\n",
    "        final_av_column[\"średnia\"] = final_av_column[\"średnia\"].str.replace(\".\", \",\", regex=True)\n",
    "        \n",
    "        csv_filename = (\"results_\" + time.strftime('%Y-%m-%d %H:%M') + time_frame.label + \".csv\")\n",
    "        final_av_column.to_csv(csv_filename)\n",
    "        \n",
    "        display(HTML(f\"<a download='{csv_filename}' href='../files/{csv_filename}'>\"\n",
    "                 \"Kliknij tutaj aby pobrać raport</a>\"))\n",
    "        \n",
    "        display(final_av_column)\n",
    "        \n",
    "        if time_frame.value == \"custom_date\":\n",
    "            print((\"zakres: \" + zakres + ';'), (\"region: \" + location.label))\n",
    "        else:\n",
    "            print((\"zakres: \" + time_frame.label + ';'), (\"region: \" + location.label))\n",
    "            \n",
    "        print(\"tytuły bez kategorii zostały ujęte w cudzysłów\")\n",
    "\n",
    "    except requests.exceptions.Timeout:\n",
    "        print(\"Błąd: Google nie odpowiada. Spróbuj ponownie później\")\n",
    "    except NameError:\n",
    "        print(\"Błąd: nie przesłano pliku\")\n",
    "    except:\n",
    "        print(\"Coś poszło nie tak\")"
   ]
  },
  {
   "cell_type": "code",
   "execution_count": 39,
   "id": "d29554fe-2c22-45c5-b8e7-55fe4cc4bad0",
   "metadata": {
    "extensions": {
     "jupyter_dashboards": {
      "activeView": "grid_default",
      "version": 1,
      "views": {
       "grid_default": {
        "col": 2,
        "height": 2,
        "hidden": false,
        "locked": true,
        "row": 11,
        "width": 3
       }
      }
     }
    },
    "tags": []
   },
   "outputs": [
    {
     "data": {
      "application/vnd.jupyter.widget-view+json": {
       "model_id": "b58dbff862d44086a489d67b3a22735c",
       "version_major": 2,
       "version_minor": 0
      },
      "text/plain": [
       "Button(description='wygeneruj', style=ButtonStyle())"
      ]
     },
     "metadata": {},
     "output_type": "display_data"
    },
    {
     "data": {
      "application/vnd.jupyter.widget-view+json": {
       "model_id": "09b0a1b888e048398440bbc1c78abdd5",
       "version_major": 2,
       "version_minor": 0
      },
      "text/plain": [
       "Output()"
      ]
     },
     "metadata": {},
     "output_type": "display_data"
    }
   ],
   "source": [
    "button = widgets.Button(description=\"wygeneruj\")\n",
    "output = widgets.Output()\n",
    "\n",
    "display(button, output)\n",
    "\n",
    "\n",
    "@output.capture(clear_output=True)\n",
    "@output2.capture(clear_output=True)\n",
    "def on_button_clicked(b):\n",
    "    with output:\n",
    "        if checkboxer.value is False:\n",
    "            compare(EXACT_KEYWORDS)\n",
    "        else:\n",
    "            compare_all(KEYWORDS_EXTENDED)\n",
    "\n",
    "\n",
    "button.on_click(on_button_clicked)"
   ]
  },
  {
   "cell_type": "code",
   "execution_count": 57,
   "id": "46f01a55-5c63-4006-908f-df458f33fee4",
   "metadata": {
    "extensions": {
     "jupyter_dashboards": {
      "activeView": "grid_default",
      "views": {
       "grid_default": {
        "col": 8,
        "height": 15,
        "hidden": true,
        "locked": true,
        "row": 18,
        "width": 4
       }
      }
     }
    },
    "tags": []
   },
   "outputs": [],
   "source": [
    "wait_for_request()\n",
    "query_string = os.getenv('QUERY_STRING')"
   ]
  },
  {
   "cell_type": "code",
   "execution_count": 95,
   "id": "eb1374c3-4923-4eb3-85c0-2a9705a0a476",
   "metadata": {
    "extensions": {
     "jupyter_dashboards": {
      "activeView": "grid_default",
      "views": {
       "grid_default": {
        "col": null,
        "height": 2,
        "hidden": true,
        "locked": true,
        "row": null,
        "width": 2
       }
      }
     }
    }
   },
   "outputs": [],
   "source": []
  },
  {
   "cell_type": "code",
   "execution_count": 95,
   "id": "aebde0ca-6501-4a5b-afb9-8b104e50e516",
   "metadata": {
    "extensions": {
     "jupyter_dashboards": {
      "activeView": "grid_default",
      "views": {
       "grid_default": {
        "col": null,
        "height": 2,
        "hidden": true,
        "locked": true,
        "row": null,
        "width": 2
       }
      }
     }
    }
   },
   "outputs": [],
   "source": []
  },
  {
   "cell_type": "code",
   "execution_count": 95,
   "id": "d41a5808-2881-49ca-9cd7-78aa3a9fbaa5",
   "metadata": {
    "extensions": {
     "jupyter_dashboards": {
      "activeView": "grid_default",
      "views": {
       "grid_default": {
        "col": null,
        "height": 2,
        "hidden": true,
        "locked": true,
        "row": null,
        "width": 2
       }
      }
     }
    }
   },
   "outputs": [],
   "source": []
  },
  {
   "cell_type": "code",
   "execution_count": 95,
   "id": "42298e31-6b37-4737-b6c6-20b895ba90bc",
   "metadata": {
    "extensions": {
     "jupyter_dashboards": {
      "activeView": "grid_default",
      "views": {
       "grid_default": {
        "col": null,
        "height": 2,
        "hidden": true,
        "locked": true,
        "row": null,
        "width": 2
       }
      }
     }
    }
   },
   "outputs": [],
   "source": []
  },
  {
   "cell_type": "code",
   "execution_count": 95,
   "id": "664a4691-29a5-41fb-b9ac-4edff1115114",
   "metadata": {
    "extensions": {
     "jupyter_dashboards": {
      "activeView": "grid_default",
      "views": {
       "grid_default": {
        "col": null,
        "height": 2,
        "hidden": true,
        "locked": true,
        "row": null,
        "width": 2
       }
      }
     }
    }
   },
   "outputs": [],
   "source": []
  },
  {
   "cell_type": "code",
   "execution_count": 95,
   "id": "5f62016b-0eb4-4dd5-80d0-8299f4b202cc",
   "metadata": {
    "extensions": {
     "jupyter_dashboards": {
      "activeView": "grid_default",
      "views": {
       "grid_default": {
        "col": null,
        "height": 2,
        "hidden": true,
        "locked": true,
        "row": null,
        "width": 2
       }
      }
     }
    }
   },
   "outputs": [],
   "source": []
  }
 ],
 "metadata": {
  "extensions": {
   "jupyter_dashboards": {
    "activeView": "grid_default",
    "version": 1,
    "views": {
     "grid_default": {
      "cellMargin": 2,
      "defaultCellHeight": 40,
      "maxColumns": 12,
      "name": "grid",
      "type": "grid"
     }
    }
   }
  },
  "kernelspec": {
   "display_name": "Python 3 (ipykernel)",
   "language": "python",
   "name": "python3"
  },
  "language_info": {
   "codemirror_mode": {
    "name": "ipython",
    "version": 3
   },
   "file_extension": ".py",
   "mimetype": "text/x-python",
   "name": "python",
   "nbconvert_exporter": "python",
   "pygments_lexer": "ipython3",
   "version": "3.9.13"
  },
  "voila": {
   "template": "gridstack"
  }
 },
 "nbformat": 4,
 "nbformat_minor": 5
}
