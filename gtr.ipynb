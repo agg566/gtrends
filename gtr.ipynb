{
 "cells": [
  {
   "cell_type": "code",
   "execution_count": 4,
   "id": "4d052ac7-6b83-4499-9a21-7822c8bd2438",
   "metadata": {
    "extensions": {
     "jupyter_dashboards": {
      "activeView": "grid_default",
      "version": 1,
      "views": {
       "grid_default": {
        "col": null,
        "height": 2,
        "hidden": true,
        "locked": true,
        "row": null,
        "width": 2
       }
      }
     }
    },
    "tags": []
   },
   "outputs": [],
   "source": [
    "import time\n",
    "import os\n",
    "import requests\n",
    "import pandas as pd\n",
    "import ipywidgets as widgets\n",
    "from IPython.display import display\n",
    "from IPython.core.display import HTML"
    "from pytrends.request import TrendReq\n",
    "from tqdm.notebook import tqdm\n",
    "from voila.utils import wait_for_request\n"
   ]
  },
  {
   "cell_type": "markdown",
   "id": "dbf58a80-8516-45d5-87f2-36bbc38c1aef",
   "metadata": {
    "extensions": {
     "jupyter_dashboards": {
      "activeView": "grid_default",
      "version": 1,
      "views": {
       "grid_default": {
        "col": 4,
        "height": 3,
        "hidden": false,
        "locked": true,
        "row": 0,
        "width": 4
       }
      }
     }
    },
    "tags": []
   },
   "source": [
    "# Analiza Google Trends"
   ]
  },
  {
   "cell_type": "markdown",
   "id": "4193c84e-9eea-4b04-a0fc-b1f7c8a15030",
   "metadata": {
    "extensions": {
     "jupyter_dashboards": {
      "activeView": "grid_default",
      "version": 1,
      "views": {
       "grid_default": {
        "col": 1,
        "height": 2,
        "hidden": false,
        "locked": true,
        "row": 3,
        "width": 7
       }
      }
     }
    },
    "tags": []
   },
   "source": [
    "Prześlij plik w formacie **.xlsx** z tytułami gier, a następnie kliknij \"wczytaj tytuły\"\n",
    "Pamiętaj, żeby każdy tytuł gry znajdował się w osobnej komórce. Tak powinna wyglądać tabela:"
   ]
  },
  {
   "cell_type": "markdown",
   "id": "076a4422-280e-4ae8-ad41-447ff1e024ba",
   "metadata": {
    "extensions": {
     "jupyter_dashboards": {
      "activeView": "grid_default",
      "version": 1,
      "views": {
       "grid_default": {
        "col": 8,
        "height": 4,
        "hidden": false,
        "locked": true,
        "row": 2,
        "width": 2
       }
      }
     }
    },
    "tags": []
   },
   "source": [
    "\n",
    "<img src=\"https://i.ibb.co/GVRCXF9/Zrzut-ekranu-2022-06-20-o-11-17-34.png\" title=\"Przykładowa tabela\"/>"
   ]
  },
  {
   "cell_type": "code",
   "execution_count": 5,
   "id": "7ea115ca-77d4-4eb6-bc0e-c376d724384b",
   "metadata": {
    "extensions": {
     "jupyter_dashboards": {
      "activeView": "grid_default",
      "views": {
       "grid_default": {
        "col": null,
        "height": 2,
        "hidden": true,
        "locked": true,
        "row": null,
        "width": 2
       }
      }
     }
    }
   },
   "outputs": [],
   "source": [
    "EXACT_KEYWORDS = []\n",
    "TITLES_LIST = []\n",
    "KEYWORDS_EXTENDED = []\n",
    "TITLES_LIST_EXTENDED = []\n",
    "pytrend = TrendReq()"
   ]
  },
  {
   "cell_type": "code",
   "execution_count": 6,
   "id": "baee3781-c5d9-4987-a9b9-f4bf5e9cbcf1",
   "metadata": {
    "extensions": {
     "jupyter_dashboards": {
      "activeView": "grid_default",
      "version": 1,
      "views": {
       "grid_default": {
        "col": 1,
        "height": 2,
        "hidden": false,
        "locked": true,
        "row": 5,
        "width": 2
       }
      }
     }
    },
    "tags": []
   },
   "outputs": [
    {
     "data": {
      "application/vnd.jupyter.widget-view+json": {
       "model_id": "abc74658694d41b68fc613daa9d7dacb",
       "version_major": 2,
       "version_minor": 0
      },
      "text/plain": [
       "FileUpload(value={}, accept='.xlsx', description='Upload')"
      ]
     },
     "metadata": {},
     "output_type": "display_data"
    }
   ],
   "source": [
    "uploader = widgets.FileUpload(\n",
    "    accept='.xlsx',  # Accepted file extension e.g. '.txt', '.pdf', 'image/*', 'image/*,.pdf'\n",
    "    multiple=False  # True to accept multiple files upload else False\n",
    ")\n",
    "display(uploader)"
   ]
  },
  {
   "cell_type": "code",
   "execution_count": 7,
   "id": "3892b63d-e5fe-44b2-8bdc-4675fcc05357",
   "metadata": {
    "extensions": {
     "jupyter_dashboards": {
      "activeView": "grid_default",
      "views": {
       "grid_default": {
        "col": null,
        "height": 2,
        "hidden": true,
        "locked": true,
        "row": null,
        "width": 2
       }
      }
     }
    }
   },
   "outputs": [],
   "source": [
    "checkboxer = widgets.Checkbox(\n",
    "    value=False,\n",
    "    description='Uwzględnij w analizie gry bez kategorii*',\n",
    "    disabled=False,\n",
    "    indent=False\n",
    ")"
   ]
  },
  {
   "cell_type": "code",
   "execution_count": 8,
   "id": "3ecc41ed-4ae1-4c09-baea-e65abcbf0379",
   "metadata": {
    "extensions": {
     "jupyter_dashboards": {
      "activeView": "grid_default",
      "views": {
       "grid_default": {
        "col": 8,
        "height": 2,
        "hidden": false,
        "locked": true,
        "row": 16,
        "width": 4
       }
      }
     }
    },
    "tags": []
   },
   "outputs": [
    {
     "data": {
      "application/vnd.jupyter.widget-view+json": {
       "model_id": "b61ca744aa2a452181d35e4e0aedffa1",
       "version_major": 2,
       "version_minor": 0
      },
      "text/plain": [
       "Checkbox(value=False, description='Uwzględnij w analizie gry bez kategorii*', indent=False)"
      ]
     },
     "metadata": {},
     "output_type": "display_data"
    }
   ],
   "source": [
    "display(checkboxer)"
   ]
  },
  {
   "cell_type": "markdown",
   "id": "1aa1ef57-8af1-4d72-acc5-ad284e0ce6a7",
   "metadata": {
    "extensions": {
     "jupyter_dashboards": {
      "activeView": "grid_default",
      "views": {
       "grid_default": {
        "col": 8,
        "height": 7,
        "hidden": false,
        "locked": true,
        "row": 18,
        "width": 4
       }
      }
     }
    },
    "tags": []
   },
   "source": [
    "Tytuły, których Google nie przypisało do kategorii gier komputerowych traktowane są jako zwykłe hasła wyszukiwania. Wyniki mogą być niedokładne, szczególnie dla wieloznacznych tytułów (np. analiza gry *Lake* uwzględnia także wyszukiwania dla jeziora, w dosłownym znaczeniu)."
   ]
  },
  {
   "cell_type": "code",
   "execution_count": 9,
   "id": "e7c025ed-297a-47a7-af64-3b5159bb3b86",
   "metadata": {
    "extensions": {
     "jupyter_dashboards": {
      "activeView": "grid_default",
      "version": 1,
      "views": {
       "grid_default": {
        "col": null,
        "height": 2,
        "hidden": true,
        "locked": true,
        "row": null,
        "width": 2
       }
      }
     }
    }
   },
   "outputs": [],
   "source": [
    "def validate(uploaded_file):\n",
    "\n",
    "    global EXACT_KEYWORDS\n",
    "    global TITLES_LIST\n",
    "    global KEYWORDS_EXTENDED\n",
    "    global TITLES_LIST_EXTENDED\n",
    "    try:\n",
    "        input_file = list(uploaded_file.value.values())[0]\n",
    "        content = input_file['content']\n",
    "        df_upload = pd.read_excel(content, header=None)\n",
    "        df_upload = df_upload.replace(r'\\n','', regex=True).replace(';','', regex=True).dropna()\n",
    "        keywords = df_upload.iloc[:, 0].to_list()\n",
    "        keywords = [k for k in keywords if k]\n",
    "\n",
    "        keywords_codes = []\n",
    "        for keyword in tqdm(keywords):\n",
    "            data = (pytrend.suggestions(keyword))\n",
    "            dicti = next(\n",
    "                (item for item in data if \"game\" in item[\"type\"]),\n",
    "                {\n",
    "                    'mid': keyword,\n",
    "                    'title': keyword,\n",
    "                    'type': \"0\"\n",
    "                }\n",
    "            )\n",
    "            if dicti is not None:\n",
    "                keywords_codes.append(dicti)\n",
    "            else:\n",
    "                continue\n",
    "                \n",
    "        df_codes = pd.DataFrame(keywords_codes)\n",
    "\n",
    "        global WRONG_ID_DF\n",
    "        WRONG_ID_DF = df_codes.loc[~df_codes[\"type\"].str.contains(\"game\")].drop(columns='mid')\n",
    "        WRONG_ID_DF['type'].apply(pd.to_numeric)\n",
    "        WRONG_ID_DF['type'] = \"0.00\"\n",
    "        WRONG_ID_DF.rename(\n",
    "            columns={\n",
    "                'type': 'średnia',\n",
    "                'title': 'tytuł'\n",
    "                },\n",
    "            inplace=True\n",
    "        )\n",
    "        \n",
    "        wrong_ID = WRONG_ID_DF['tytuł'].to_list()\n",
    "        wrong_id_list = []\n",
    "        for i in wrong_ID:\n",
    "            wrong_id_list.append('\"' + i + '\"')\n",
    "        \n",
    "        WRONG_ID_DF = WRONG_ID_DF.set_index('tytuł')\n",
    "        \n",
    "        final_df = df_codes.loc[df_codes[\"type\"].str.contains(\"game\")]\n",
    "        \n",
    "        EXACT_KEYWORDS = final_df['mid'].to_list()\n",
    "        TITLES_LIST = final_df['title'].to_list()\n",
    "        \n",
    "        KEYWORDS_EXTENDED = EXACT_KEYWORDS + wrong_id_list\n",
    "        TITLES_LIST_EXTENDED = TITLES_LIST + wrong_id_list\n",
    "        \n",
    "        print(\"Tytuły wczytane poprawnie\")\n",
    "        \n",
    "\n",
    "    except IndexError:\n",
    "        print(\"Błąd: nie przesłano pliku bądź przesłano pusty plik\")\n",
    "    except requests.exceptions.Timeout:\n",
    "        print(\"Błąd: Google nie odpowiada. Spróbuj ponownie później\")\n",
    "    except:\n",
    "        print(\"Coś poszło nie tak\")\n",
    "\n",
    "    \n",
    "    "
   ]
  },
  {
   "cell_type": "code",
   "execution_count": 10,
   "id": "90d32a02-158f-4541-82c9-7d92c0aed865",
   "metadata": {
    "extensions": {
     "jupyter_dashboards": {
      "activeView": "grid_default",
      "version": 1,
      "views": {
       "grid_default": {
        "col": 3,
        "height": 4,
        "hidden": false,
        "locked": true,
        "row": 5,
        "width": 5
       }
      }
     }
    },
    "tags": []
   },
   "outputs": [
    {
     "data": {
      "application/vnd.jupyter.widget-view+json": {
       "model_id": "7db0278376d14421a0ee162d3bb130a3",
       "version_major": 2,
       "version_minor": 0
      },
      "text/plain": [
       "Button(description='wczytaj tytuły', style=ButtonStyle())"
      ]
     },
     "metadata": {},
     "output_type": "display_data"
    },
    {
     "data": {
      "application/vnd.jupyter.widget-view+json": {
       "model_id": "8f8fa734ea90449aa609499135a5ba95",
       "version_major": 2,
       "version_minor": 0
      },
      "text/plain": [
       "Output()"
      ]
     },
     "metadata": {},
     "output_type": "display_data"
    }
   ],
   "source": [
    "button2 = widgets.Button(description=\"wczytaj tytuły\")\n",
    "output2 = widgets.Output()\n",
    "\n",
    "display(button2, output2)\n",
    "\n",
    "\n",
    "@output2.capture(clear_output=True)\n",
    "def on_button_clicked_validate(b):\n",
    "    with output2:\n",
    "        validate(uploader)\n",
    "\n",
    "\n",
    "button2.on_click(on_button_clicked_validate)"
   ]
  },
  {
   "cell_type": "code",
   "execution_count": 11,
   "id": "e6ddafed-4e60-4eb2-9bfc-0deb2e1bcd02",
   "metadata": {
    "extensions": {
     "jupyter_dashboards": {
      "activeView": "grid_default",
      "version": 1,
      "views": {
       "grid_default": {
        "col": null,
        "height": 2,
        "hidden": true,
        "locked": true,
        "row": null,
        "width": 2
       }
      }
     }
    },
    "tags": []
   },
   "outputs": [],
   "source": [
    "time_frame = widgets.Dropdown(\n",
    "    options=[\n",
    "        (\"ostatni miesiąc\", \"today 1-m\"),\n",
    "        (\"ostatnie 3 miesiące\", \"today 3-m\"),\n",
    "        (\"ostatni rok\", \"today 12-m\"),\n",
    "        (\"ostatnie 5 lat\", \"today 5-y\"),\n",
    "        (\"od 2004-\", \"all\"),\n",
    "        (\"własna data\", \"custom_date\")\n",
    "    ],\n",
    "    value='today 12-m',\n",
    "    description='Zakres czasu:',\n",
    "    disabled=False,\n",
    ")"
   ]
  },
  {
   "cell_type": "code",
   "execution_count": 12,
   "id": "c7fe8199-c128-4642-b8db-5ca597508f16",
   "metadata": {
    "extensions": {
     "jupyter_dashboards": {
      "activeView": "grid_default",
      "views": {
       "grid_default": {
        "col": null,
        "height": 2,
        "hidden": true,
        "locked": true,
        "row": null,
        "width": 2
       }
      }
     }
    }
   },
   "outputs": [],
   "source": [
    "custom_timeframe_start = widgets.DatePicker(\n",
    "    description='Początek',\n",
    "    disabled=False\n",
    ")\n",
    "custom_timeframe_stop = widgets.DatePicker(\n",
    "    description='Koniec',\n",
    "    disabled=False\n",
    ")"
   ]
  },
  {
   "cell_type": "code",
   "execution_count": 13,
   "id": "5f663174-5c84-4b89-88fb-fa71cb6de09d",
   "metadata": {
    "extensions": {
     "jupyter_dashboards": {
      "activeView": "grid_default",
      "version": 1,
      "views": {
       "grid_default": {
        "col": null,
        "height": 2,
        "hidden": true,
        "locked": true,
        "row": null,
        "width": 2
       }
      }
     }
    },
    "tags": []
   },
   "outputs": [],
   "source": [
    "location = widgets.Dropdown(\n",
    "    options=[\n",
    "        ('cały świat', ''),\n",
    "        ('Stany Zjednoczone', 'US'),\n",
    "        ('Polska', 'PL'),\n",
    "        ('Wielka Brytania', 'GB'),\n",
    "        ('Niemcy', 'DE'),\n",
    "        ('Japonia', 'JP'),\n",
    "        ('Rosja', 'RU'),\n",
    "        ('Korea Południowa', 'KR')\n",
    "    ], \n",
    "    value='',\n",
    "    description='Region:',\n",
    "    disabled=False,\n",
    ")"
   ]
  },
  {
   "cell_type": "markdown",
   "id": "d2be84bf-02b2-42de-be12-b95ef4f853fd",
   "metadata": {
    "extensions": {
     "jupyter_dashboards": {
      "activeView": "grid_default",
      "version": 1,
      "views": {
       "grid_default": {
        "col": 1,
        "height": 6,
        "hidden": false,
        "locked": true,
        "row": 10,
        "width": 7
       }
      }
     }
    },
    "tags": []
   },
   "source": [
    "Określ parametry, dla których chcesz ściągnąć dane - zakres czasu oraz region.\n",
    "\n",
    "Jeśli chcesz określić własny przedział czasu, w pierwszej komórce wybierz \"własna data\", a następnie wypełnij datę początkową i końcową. \n",
    "\n",
    "Jeśli chcesz ściągnąć dane dla zdefiniowanego zakresu (np. ostatni rok) **wystarczy, że zaznaczysz to w pierwszej komórce.**\n",
    "\n",
    "Kliknij \"wygeneruj\" by uzyskać raport. **Zawartość tabeli można pobrać w formacie .csv**."
   ]
  },
  {
   "cell_type": "code",
   "execution_count": 14,
   "id": "6bdb9d4a-b5ea-4d55-84a5-022039227a3e",
   "metadata": {
    "extensions": {
     "jupyter_dashboards": {
      "activeView": "grid_default",
      "version": 1,
      "views": {
       "grid_default": {
        "col": 8,
        "height": 3,
        "hidden": false,
        "locked": true,
        "row": 13,
        "width": 3
       }
      }
     }
    },
    "tags": []
   },
   "outputs": [
    {
     "data": {
      "application/vnd.jupyter.widget-view+json": {
       "model_id": "82c0128d227e476ebaba13e4c5a97465",
       "version_major": 2,
       "version_minor": 0
      },
      "text/plain": [
       "DatePicker(value=None, description='Początek')"
      ]
     },
     "metadata": {},
     "output_type": "display_data"
    },
    {
     "data": {
      "application/vnd.jupyter.widget-view+json": {
       "model_id": "8fac11d3d9b14874a964dd3a2525e846",
       "version_major": 2,
       "version_minor": 0
      },
      "text/plain": [
       "DatePicker(value=None, description='Koniec')"
      ]
     },
     "metadata": {},
     "output_type": "display_data"
    }
   ],
   "source": [
    "display(custom_timeframe_start, custom_timeframe_stop)"
   ]
  },
  {
   "cell_type": "code",
   "execution_count": 15,
   "id": "e4e6be18-a080-4fcf-a06e-c268939027db",
   "metadata": {
    "extensions": {
     "jupyter_dashboards": {
      "activeView": "grid_default",
      "version": 1,
      "views": {
       "grid_default": {
        "col": 8,
        "height": 3,
        "hidden": false,
        "locked": true,
        "row": 10,
        "width": 3
       }
      }
     }
    },
    "tags": []
   },
   "outputs": [
    {
     "data": {
      "application/vnd.jupyter.widget-view+json": {
       "model_id": "c10602673187433cbe5d70ff8e211033",
       "version_major": 2,
       "version_minor": 0
      },
      "text/plain": [
       "Dropdown(description='Zakres czasu:', index=2, options=(('ostatni miesiąc', 'today 1-m'), ('ostatnie 3 miesiąc…"
      ]
     },
     "metadata": {},
     "output_type": "display_data"
    },
    {
     "data": {
      "application/vnd.jupyter.widget-view+json": {
       "model_id": "e8f4789700bb4b61976e117b588c6a4f",
       "version_major": 2,
       "version_minor": 0
      },
      "text/plain": [
       "Dropdown(description='Region:', options=(('cały świat', ''), ('Stany Zjednoczone', 'US'), ('Polska', 'PL'), ('…"
      ]
     },
     "metadata": {},
     "output_type": "display_data"
    }
   ],
   "source": [
    "\n",
    "display(time_frame)\n",
    "\n",
    "display(location)"
   ]
  },
  {
   "cell_type": "code",
   "execution_count": 16,
   "id": "13aef880-47db-4e04-9382-eebe67ceed37",
   "metadata": {
    "extensions": {
     "jupyter_dashboards": {
      "activeView": "grid_default",
      "version": 1,
      "views": {
       "grid_default": {
        "col": null,
        "height": 2,
        "hidden": true,
        "locked": true,
        "row": null,
        "width": 2
       }
      }
     }
    }
   },
   "outputs": [],
   "source": [
    "def compare(kw_list):\n",
    "\n",
    "    trends = dict()\n",
    "    try:\n",
    "        for i in tqdm(kw_list):\n",
    "            time.sleep(1)\n",
    "            if time_frame.value == \"custom_date\":\n",
    "                zakres = str(custom_timeframe_start.value) + \" \" + str(custom_timeframe_stop.value)\n",
    "                pytrend.build_payload(\n",
    "                    [i, '/m/0c7kdf'],\n",
    "                    cat=0,\n",
    "                    timeframe=zakres,\n",
    "                    geo=location.value\n",
    "                )\n",
    "            else:\n",
    "                zakres = time_frame.value\n",
    "                pytrend.build_payload(\n",
    "                    [i, '/m/0c7kdf'],\n",
    "                    cat=0,\n",
    "                    timeframe=zakres,\n",
    "                    geo=location.value\n",
    "                )\n",
    "            trends[i] = pytrend.interest_over_time()[i]\n",
    "\n",
    "        trends_df = pd.DataFrame.from_dict(trends)\n",
    "        trends_df.columns = TITLES_LIST\n",
    "\n",
    "        av_column = trends_df.mean(axis=0, numeric_only=True).round(2).sort_values(ascending=False)\n",
    "        av_column = av_column.to_frame(name=\"średnia\")\n",
    "        \n",
    "        final_av_column = pd.concat([av_column, WRONG_ID_DF])\n",
    "\n",
    "        final_av_column[\"średnia\"] = final_av_column[\"średnia\"].map(str)\n",
    "        final_av_column[\"średnia\"] = final_av_column[\"średnia\"].str.replace(\".\", \",\", regex=True)\n",
    "        \n",
    "        #csv_filename = \"results_gtrends.csv\"\n",
    "        csv_filename = (\"results_\" + time.strftime('%Y-%m-%d %H:%M') + time_frame.label + \".csv\")\n",
    "        final_av_column.to_csv(csv_filename)\n",
    "        \n",
    "        display(HTML(f\"<a download='{csv_filename}' href='../files/{csv_filename}'>\"\n",
    "                 \"Kliknij tutaj aby pobrać raport</a>\"))\n",
    "        \n",
    "        display(final_av_column)\n",
    "        \n",
    "        if time_frame.value == \"custom_date\":\n",
    "            print((\"zakres: \" + zakres + ';'), (\"region: \" + location.label))\n",
    "        else:\n",
    "            print((\"zakres: \" + time_frame.label + ';'), (\"region: \" + location.label))\n",
    "        \n",
    "        print(\"tytułom bez kategorii automatycznie przypisano wartość 0\")\n",
    "\n",
    "    except requests.exceptions.Timeout:\n",
    "        print(\"Błąd: Google nie odpowiada. Spróbuj ponownie później\")\n",
    "    except NameError:\n",
    "        print(\"Błąd: nie przesłano pliku\")\n",
    "    except:\n",
    "        print(\"Coś poszło nie tak\")"
   ]
  },
  {
   "cell_type": "code",
   "execution_count": 17,
   "id": "9ce3396d-0c2d-4bbd-82f3-8f6ff63753c5",
   "metadata": {
    "extensions": {
     "jupyter_dashboards": {
      "activeView": "grid_default",
      "views": {
       "grid_default": {
        "col": null,
        "height": 2,
        "hidden": true,
        "locked": true,
        "row": null,
        "width": 2
       }
      }
     }
    }
   },
   "outputs": [],
   "source": [
    "def compare_all(kw_list):\n",
    "\n",
    "    trends = dict()\n",
    "    try:\n",
    "        for i in tqdm(kw_list):\n",
    "            time.sleep(1)\n",
    "            if time_frame.value == \"custom_date\":\n",
    "                zakres = str(custom_timeframe_start.value) + \" \" + str(custom_timeframe_stop.value)\n",
    "                pytrend.build_payload(\n",
    "                    [i, '/m/0c7kdf'],\n",
    "                    cat=0,\n",
    "                    timeframe=zakres,\n",
    "                    geo=location.value\n",
    "                )\n",
    "            else:\n",
    "                zakres = time_frame.value\n",
    "                pytrend.build_payload(\n",
    "                    [i, '/m/0c7kdf'],\n",
    "                    cat=0,\n",
    "                    timeframe=zakres,\n",
    "                    geo=location.value\n",
    "                )\n",
    "            trends[i] = pytrend.interest_over_time()[i]\n",
    "\n",
    "        trends_df = pd.DataFrame.from_dict(trends)\n",
    "        trends_df.columns = TITLES_LIST_EXTENDED\n",
    "\n",
    "        final_av_column = trends_df.mean(axis=0, numeric_only=True).round(2).sort_values(ascending=False)\n",
    "        final_av_column = final_av_column.to_frame(name=\"średnia\")\n",
    "\n",
    "        final_av_column[\"średnia\"] = final_av_column[\"średnia\"].map(str)\n",
    "        final_av_column[\"średnia\"] = final_av_column[\"średnia\"].str.replace(\".\", \",\", regex=True)\n",
    "        \n",
    "        #csv_filename = \"results_gtrends.csv\"\n",
    "        csv_filename = (\"results_\" + time.strftime('%Y-%m-%d %H:%M') + time_frame.label + \".csv\")\n",
    "        final_av_column.to_csv(csv_filename)\n",
    "        \n",
    "        display(HTML(f\"<a download='{csv_filename}' href='../files/{csv_filename}'>\"\n",
    "                 \"Kliknij tutaj aby pobrać raport</a>\"))\n",
    "        \n",
    "        display(final_av_column)\n",
    "        \n",
    "        if time_frame.value == \"custom_date\":\n",
    "            print((\"zakres: \" + zakres + ';'), (\"region: \" + location.label))\n",
    "        else:\n",
    "            print((\"zakres: \" + time_frame.label + ';'), (\"region: \" + location.label))\n",
    "            \n",
    "        print(\"tytuły bez kategorii zostały ujęte w cudzysłów\")\n",
    "\n",
    "    except requests.exceptions.Timeout:\n",
    "        print(\"Błąd: Google nie odpowiada. Spróbuj ponownie później\")\n",
    "    except NameError:\n",
    "        print(\"Błąd: nie przesłano pliku\")\n",
    "    except:\n",
    "        print(\"Coś poszło nie tak\")"
   ]
  },
  {
   "cell_type": "code",
   "execution_count": 18,
   "id": "d29554fe-2c22-45c5-b8e7-55fe4cc4bad0",
   "metadata": {
    "extensions": {
     "jupyter_dashboards": {
      "activeView": "grid_default",
      "version": 1,
      "views": {
       "grid_default": {
        "col": 3,
        "height": 25,
        "hidden": false,
        "locked": true,
        "row": 16,
        "width": 5
       }
      }
     }
    },
    "tags": []
   },
   "outputs": [
    {
     "data": {
      "application/vnd.jupyter.widget-view+json": {
       "model_id": "ffff9695cf114f448c5ed0f36a04aac9",
       "version_major": 2,
       "version_minor": 0
      },
      "text/plain": [
       "Button(description='wygeneruj', style=ButtonStyle())"
      ]
     },
     "metadata": {},
     "output_type": "display_data"
    },
    {
     "data": {
      "application/vnd.jupyter.widget-view+json": {
       "model_id": "deffdb5d1577409d818d2ba24abeeb59",
       "version_major": 2,
       "version_minor": 0
      },
      "text/plain": [
       "Output()"
      ]
     },
     "metadata": {},
     "output_type": "display_data"
    }
   ],
   "source": [
    "button = widgets.Button(description=\"wygeneruj\")\n",
    "output = widgets.Output()\n",
    "\n",
    "display(button, output)\n",
    "\n",
    "\n",
    "@output.capture(clear_output=True)\n",
    "def on_button_clicked(b):\n",
    "    with output:\n",
    "        if checkboxer.value == False:\n",
    "            compare(EXACT_KEYWORDS)\n",
    "        else:\n",
    "            compare_all(KEYWORDS_EXTENDED)\n",
    "\n",
    "\n",
    "button.on_click(on_button_clicked)"
   ]
  },
  {
   "cell_type": "code",
   "execution_count": 3,
   "id": "46f01a55-5c63-4006-908f-df458f33fee4",
   "metadata": {
    "extensions": {
     "jupyter_dashboards": {
      "activeView": "grid_default",
      "views": {
       "grid_default": {
        "col": 8,
        "height": 15,
        "hidden": false,
        "locked": true,
        "row": 9,
        "width": 4
       }
      }
     }
    },
    "tags": []
   },
   "outputs": [],
   "source": [
    "wait_for_request()\n",
    "query_string = os.getenv('QUERY_STRING')"
   ]
  },
  {
   "cell_type": "code",
   "execution_count": 95,
   "id": "eb1374c3-4923-4eb3-85c0-2a9705a0a476",
   "metadata": {
    "extensions": {
     "jupyter_dashboards": {
      "activeView": "grid_default",
      "views": {
       "grid_default": {
        "col": null,
        "height": 2,
        "hidden": true,
        "locked": true,
        "row": null,
        "width": 2
       }
      }
     }
    }
   },
   "outputs": [],
   "source": []
  },
  {
   "cell_type": "code",
   "execution_count": 95,
   "id": "aebde0ca-6501-4a5b-afb9-8b104e50e516",
   "metadata": {
    "extensions": {
     "jupyter_dashboards": {
      "activeView": "grid_default",
      "views": {
       "grid_default": {
        "col": null,
        "height": 2,
        "hidden": true,
        "locked": true,
        "row": null,
        "width": 2
       }
      }
     }
    }
   },
   "outputs": [],
   "source": []
  }
 ],
 "metadata": {
  "extensions": {
   "jupyter_dashboards": {
    "activeView": "grid_default",
    "version": 1,
    "views": {
     "grid_default": {
      "cellMargin": 2,
      "defaultCellHeight": 40,
      "maxColumns": 12,
      "name": "grid",
      "type": "grid"
     }
    }
   }
  },
  "kernelspec": {
   "display_name": "Python 3 (ipykernel)",
   "language": "python",
   "name": "python3"
  },
  "language_info": {
   "codemirror_mode": {
    "name": "ipython",
    "version": 3
   },
   "file_extension": ".py",
   "mimetype": "text/x-python",
   "name": "python",
   "nbconvert_exporter": "python",
   "pygments_lexer": "ipython3",
   "version": "3.9.13"
  },
  "voila": {
   "template": "gridstack"
  }
 },
 "nbformat": 4,
 "nbformat_minor": 5
}
